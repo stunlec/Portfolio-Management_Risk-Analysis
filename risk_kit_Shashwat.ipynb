{
 "cells": [
  {
   "cell_type": "code",
   "execution_count": 1,
   "id": "36b2a9e6",
   "metadata": {},
   "outputs": [],
   "source": [
    "import numpy as np\n",
    "import pandas as pd\n",
    "from math import sqrt\n",
    "import scipy.stats as stats"
   ]
  },
  {
   "cell_type": "code",
   "execution_count": 2,
   "id": "477be3b8",
   "metadata": {},
   "outputs": [],
   "source": [
    "def skew(ser):\n",
    "    mean = np.mean(ser)\n",
    "    sdev = np.std(ser)\n",
    "    sumdev = 0\n",
    "    for i in range(len(ser)):\n",
    "        diff = ser[i]-mean\n",
    "        sumdev = sumdev + (diff**3)\n",
    "    num = sumdev/(sdev**3)\n",
    "    skew = num/(len(ser)-1)\n",
    "    return skew"
   ]
  },
  {
   "cell_type": "code",
   "execution_count": 3,
   "id": "f4e51b47",
   "metadata": {},
   "outputs": [],
   "source": [
    "def kurt(ser):\n",
    "    mean = np.mean(ser)\n",
    "    sdev = np.std(ser)\n",
    "    sumdev = 0\n",
    "    for i in range(len(ser)):\n",
    "        diff = ser[i]-mean\n",
    "        sumdev = sumdev + (diff**4)\n",
    "    num = sumdev/(sdev**4)\n",
    "    kurt = num/(len(ser)-1)\n",
    "    return kurt"
   ]
  },
  {
   "cell_type": "code",
   "execution_count": 4,
   "id": "06713c7a",
   "metadata": {},
   "outputs": [],
   "source": [
    "def ann_ret(ser,N):\n",
    "    n=len(ser)\n",
    "    eyp=float(ser[n-1])\n",
    "    byp=float(ser[0])\n",
    "    ror=((eyp-byp)/byp)\n",
    "    ann_ret = ((1+ror)**(1/N))-1\n",
    "    return ann_ret*100"
   ]
  },
  {
   "cell_type": "code",
   "execution_count": 5,
   "id": "38dc14ff",
   "metadata": {},
   "outputs": [],
   "source": [
    "def ann_vol(ser):\n",
    "    sdev = np.std(ser)\n",
    "    ann_vol = sdev*sqrt(12)\n",
    "    return ann_vol"
   ]
  },
  {
   "cell_type": "code",
   "execution_count": 6,
   "id": "1a56967e",
   "metadata": {},
   "outputs": [],
   "source": [
    "def Sharpe_Ratio(ser):\n",
    "    mean = np.mean(ser)\n",
    "    sd = np.std(ser)\n",
    "\n",
    "    SR=((mean/100)-(0.03))/(sd*sqrt(12))\n",
    "    return round(SR,2)"
   ]
  },
  {
   "cell_type": "code",
   "execution_count": 7,
   "id": "20f0a997",
   "metadata": {},
   "outputs": [],
   "source": [
    "def Jarque_bera(ser):\n",
    "    kurt = kurt(ser)\n",
    "    skew = skew(ser)\n",
    "    n = float(len(ser))\n",
    "    \n",
    "    JB = (n/6)*((skew**2) + (1/4)*(kurt-3.0)**2)\n",
    "    \n",
    "    if JB>=0.0 and JB<=0.05:\n",
    "        return True\n",
    "    else:\n",
    "        return False"
   ]
  },
  {
   "cell_type": "code",
   "execution_count": 8,
   "id": "ab230189",
   "metadata": {},
   "outputs": [],
   "source": [
    "def drawdown(ini_inv,ser):\n",
    "    wealth_index = ini_inv*(1 + ser).cumprod()\n",
    "    prev_peaks = wealth_index.cummax()\n",
    "    drawdown = (wealth_index-prev_peaks)/prev_peaks\n",
    "    wealth_index.plot()\n",
    "    prev_peaks.plot()\n",
    "    drawdown.plot()\n",
    "    \n",
    "    return pd.DataFrame({\"Wealth\": wealth_index,\n",
    "                        \"Previous Peaks\": prev_peaks,\n",
    "                        \"Drawdown\": drawdown})"
   ]
  },
  {
   "cell_type": "code",
   "execution_count": 9,
   "id": "4fcf1a91",
   "metadata": {},
   "outputs": [],
   "source": [
    "def semi_dev(ser):\n",
    "    mean = np.mean(ser)\n",
    "    total = 0\n",
    "    for i in range(len(ser)):\n",
    "        if (ser[i]<mean):\n",
    "            diff = mean-ser[i]\n",
    "            total+=(diff**2)\n",
    "    var = total/len(ser)\n",
    "    return sqrt(var)"
   ]
  },
  {
   "cell_type": "code",
   "execution_count": 10,
   "id": "2e291a32",
   "metadata": {},
   "outputs": [],
   "source": [
    "def hist_var(ser,t_period,alpha):\n",
    "    ser = np.array(ser)\n",
    "    ser = np.sort(ser)\n",
    "    index = int((t_period*(alpha/100))-1)\n",
    "    return ser[index]"
   ]
  },
  {
   "cell_type": "code",
   "execution_count": 11,
   "id": "30fd94a7",
   "metadata": {},
   "outputs": [],
   "source": [
    "def hist_cvar(ser,t_period,alpha):\n",
    "    ser = np.array(ser)\n",
    "    ser = np.sort(ser)\n",
    "    index = int((t_period*(alpha/100))-1)\n",
    "    neg_dev = ser[:index]\n",
    "    return np.mean(neg_dev)"
   ]
  },
  {
   "cell_type": "code",
   "execution_count": 12,
   "id": "45391144",
   "metadata": {},
   "outputs": [],
   "source": [
    "def gauss_var(ser,alpha=5):\n",
    "    mean = np.mean(ser)\n",
    "    sdev = np.std(ser)\n",
    "    z = -1.65\n",
    "    var = -(mean+(z*sdev))\n",
    "    return var"
   ]
  },
  {
   "cell_type": "code",
   "execution_count": 13,
   "id": "21128f1b",
   "metadata": {},
   "outputs": [],
   "source": [
    "def gauss_cvar(ser,alpha=5):\n",
    "    ser = np.array(ser)\n",
    "    var = gauss_var(ser)\n",
    "    sum_ret = 0\n",
    "    for i in range(len(ser)):\n",
    "        if(ser[i]<var):\n",
    "            sum_ret+=ser[i]\n",
    "    cvar = sum_ret/len(ser)\n",
    "    return cvar\n",
    "        "
   ]
  },
  {
   "cell_type": "code",
   "execution_count": 14,
   "id": "9105c925",
   "metadata": {},
   "outputs": [],
   "source": [
    "def cf_var(ser,alpha=5):\n",
    "    S = skew(ser)\n",
    "    K = kurt(ser)\n",
    "    z = -1.65\n",
    "    term1 = (1/6)*((z**2)-1)*S\n",
    "    term2 = (1/24)*((z**3)-(3*z))*(K-3)\n",
    "    term3 = (1/36)*(2*(z**3)-(5*z))*(S**2)\n",
    "    mean = np.mean(ser)\n",
    "    sdev = np.std(ser)\n",
    "    Z = z+term1+term2-term3\n",
    "    var = -(mean+Z*sdev)/(1-0.05)\n",
    "    return var"
   ]
  },
  {
   "cell_type": "code",
   "execution_count": null,
   "id": "c0d4641d",
   "metadata": {},
   "outputs": [],
   "source": []
  },
  {
   "cell_type": "code",
   "execution_count": null,
   "id": "332b149e",
   "metadata": {},
   "outputs": [],
   "source": []
  }
 ],
 "metadata": {
  "kernelspec": {
   "display_name": "Python 3 (ipykernel)",
   "language": "python",
   "name": "python3"
  },
  "language_info": {
   "codemirror_mode": {
    "name": "ipython",
    "version": 3
   },
   "file_extension": ".py",
   "mimetype": "text/x-python",
   "name": "python",
   "nbconvert_exporter": "python",
   "pygments_lexer": "ipython3",
   "version": "3.10.9"
  }
 },
 "nbformat": 4,
 "nbformat_minor": 5
}
