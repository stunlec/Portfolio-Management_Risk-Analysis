{
 "cells": [
  {
   "cell_type": "markdown",
   "id": "5a1b041f",
   "metadata": {},
   "source": [
    "# Solution 1"
   ]
  },
  {
   "cell_type": "code",
   "execution_count": 1,
   "id": "9d711348",
   "metadata": {},
   "outputs": [],
   "source": [
    "import pandas as pd\n",
    "from math import pow,sqrt"
   ]
  },
  {
   "cell_type": "code",
   "execution_count": 2,
   "id": "3ef44e87",
   "metadata": {},
   "outputs": [],
   "source": [
    "def moment_dist(ser,deg):\n",
    "    sum_val = ser.sum()\n",
    "    mean = sum_val/len(ser)\n",
    "    if deg==1:\n",
    "        return mean\n",
    "    \n",
    "    sum_diff = 0\n",
    "    for i in range(len(ser)):\n",
    "        diff = ser[i]-mean\n",
    "        sum_diff+=pow(diff,2)\n",
    "        \n",
    "    var = sum_diff/(len(ser)-1)\n",
    "    SD = sqrt(var)\n",
    "    \n",
    "    if deg==2:\n",
    "        return var\n",
    "    \n",
    "    sum_diff2 = 0\n",
    "    if deg==3:\n",
    "        for i in range(len(ser)):\n",
    "            diff2 = ser[i]-mean\n",
    "            num = diff2/SD\n",
    "            sum_diff2 += pow(num,3)\n",
    "    \n",
    "        skew = sum_diff2/len(ser)\n",
    "        return skew\n",
    "    \n",
    "    if deg==4:\n",
    "        for i in range(len(ser)):\n",
    "            diff3 = ser[i]-mean\n",
    "            num1 = diff3/SD\n",
    "            sum_diff2 += pow(num1,4)\n",
    "    \n",
    "        kurt = sum_diff2/len(ser)\n",
    "        return kurt"
   ]
  },
  {
   "cell_type": "code",
   "execution_count": null,
   "id": "c98fc774",
   "metadata": {},
   "outputs": [],
   "source": [
    "def Jarque_test"
   ]
  },
  {
   "cell_type": "code",
   "execution_count": 3,
   "id": "717bb612",
   "metadata": {},
   "outputs": [],
   "source": [
    "file=pd.read_csv(r\"edhec-hedgefundindices.csv\")"
   ]
  },
  {
   "cell_type": "code",
   "execution_count": 4,
   "id": "173ca122",
   "metadata": {},
   "outputs": [],
   "source": [
    "df=pd.DataFrame(file)"
   ]
  },
  {
   "cell_type": "code",
   "execution_count": 7,
   "id": "90a4fdbf",
   "metadata": {},
   "outputs": [
    {
     "name": "stdout",
     "output_type": "stream",
     "text": [
      "Moment 2:  5.4243090864404575\n"
     ]
    }
   ],
   "source": [
    "print(\"Moment 2: \",moment_dist(df[\"CTA Global\"],2))"
   ]
  },
  {
   "cell_type": "code",
   "execution_count": 8,
   "id": "7c99abd9",
   "metadata": {},
   "outputs": [
    {
     "name": "stdout",
     "output_type": "stream",
     "text": [
      "Moment 3:  0.1736986449903897\n"
     ]
    }
   ],
   "source": [
    "print(\"Moment 3: \",moment_dist(df[\"CTA Global\"],3))"
   ]
  },
  {
   "cell_type": "code",
   "execution_count": 9,
   "id": "307717b9",
   "metadata": {},
   "outputs": [
    {
     "name": "stdout",
     "output_type": "stream",
     "text": [
      "Moment 4:  2.952960368746515\n"
     ]
    }
   ],
   "source": [
    "print(\"Moment 4: \",moment_dist(df[\"CTA Global\"],4))"
   ]
  },
  {
   "cell_type": "code",
   "execution_count": null,
   "id": "2dc7f93e",
   "metadata": {},
   "outputs": [],
   "source": []
  },
  {
   "cell_type": "code",
   "execution_count": null,
   "id": "0cfe7255",
   "metadata": {},
   "outputs": [],
   "source": []
  },
  {
   "cell_type": "code",
   "execution_count": null,
   "id": "2c03268c",
   "metadata": {},
   "outputs": [],
   "source": []
  },
  {
   "cell_type": "code",
   "execution_count": null,
   "id": "6cb8318a",
   "metadata": {},
   "outputs": [],
   "source": []
  },
  {
   "cell_type": "code",
   "execution_count": null,
   "id": "1ed42ddd",
   "metadata": {},
   "outputs": [],
   "source": []
  }
 ],
 "metadata": {
  "kernelspec": {
   "display_name": "Python 3 (ipykernel)",
   "language": "python",
   "name": "python3"
  },
  "language_info": {
   "codemirror_mode": {
    "name": "ipython",
    "version": 3
   },
   "file_extension": ".py",
   "mimetype": "text/x-python",
   "name": "python",
   "nbconvert_exporter": "python",
   "pygments_lexer": "ipython3",
   "version": "3.10.9"
  }
 },
 "nbformat": 4,
 "nbformat_minor": 5
}
