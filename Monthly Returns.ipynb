{
 "cells": [
  {
   "cell_type": "code",
   "execution_count": 1,
   "id": "71411910",
   "metadata": {},
   "outputs": [],
   "source": [
    "import pandas as pd"
   ]
  },
  {
   "cell_type": "code",
   "execution_count": 2,
   "id": "b8683ca2",
   "metadata": {},
   "outputs": [],
   "source": [
    "def mon_ret(l_stock):\n",
    "    n=len(l_stock)\n",
    "    l_returns=[]\n",
    "    for i in range(0,n):\n",
    "        \n",
    "        if i==0:\n",
    "            continue\n",
    "        else:\n",
    "            price1 = float(l_stock[i-1])\n",
    "            price2 = float(l_stock[i])\n",
    "            ret = (((price2/100)-(price1/100))/(price1/100))*100\n",
    "        l_returns.append(ret)\n",
    "\n",
    "    return l_returns"
   ]
  },
  {
   "cell_type": "code",
   "execution_count": 3,
   "id": "c4b1de0b",
   "metadata": {},
   "outputs": [],
   "source": [
    "file = pd.read_csv(r\"C:\\Users\\shash\\Downloads\\sample_prices.csv\")"
   ]
  },
  {
   "cell_type": "code",
   "execution_count": 4,
   "id": "46a10af9",
   "metadata": {},
   "outputs": [],
   "source": [
    "blue=file['BLUE'].tolist()\n",
    "orange=file['ORANGE'].tolist()"
   ]
  },
  {
   "cell_type": "code",
   "execution_count": 5,
   "id": "6b70d1ce",
   "metadata": {},
   "outputs": [],
   "source": [
    "blue_ret=mon_ret(blue)\n",
    "orange_ret=mon_ret(orange)"
   ]
  },
  {
   "cell_type": "code",
   "execution_count": 31,
   "id": "db2b9379",
   "metadata": {},
   "outputs": [],
   "source": [
    "blue_ret.insert(0,0)\n",
    "orange_ret.insert(0,0)"
   ]
  },
  {
   "cell_type": "code",
   "execution_count": 27,
   "id": "1154067f",
   "metadata": {},
   "outputs": [],
   "source": [
    "file['BLUE RETURNS']=blue_ret\n",
    "file['ORANGE RETURNS']=orange_ret"
   ]
  },
  {
   "cell_type": "code",
   "execution_count": 28,
   "id": "0731cc9c",
   "metadata": {
    "scrolled": false
   },
   "outputs": [
    {
     "name": "stdout",
     "output_type": "stream",
     "text": [
      "      BLUE   ORANGE  BLUE RETURNS  ORANGE RETURNS\n",
      "0   8.7000  10.6600      0.000000        0.000000\n",
      "1   8.9055  11.0828      2.362069        3.966229\n",
      "2   8.7113  10.7100     -2.180675       -3.363771\n",
      "3   8.4346  11.5907     -3.176334        8.223156\n",
      "4   8.7254  12.1070      3.447704        4.454433\n",
      "5   9.0551  11.7876      3.778623       -2.638143\n",
      "6   8.9514  11.2078     -1.145211       -4.918728\n",
      "7   9.2439  12.5192      3.267645       11.700780\n",
      "8   9.1276  13.3624     -1.258127        6.735255\n",
      "9   9.3976  14.4080      2.958061        7.824942\n",
      "10  9.4554  11.9837      0.615051      -16.826069\n",
      "11  9.5704  12.2718      1.216236        2.404099\n",
      "12  9.7728  11.5892      2.114854       -5.562346\n"
     ]
    }
   ],
   "source": [
    "print(file)"
   ]
  },
  {
   "cell_type": "code",
   "execution_count": null,
   "id": "774a9e81",
   "metadata": {},
   "outputs": [],
   "source": []
  }
 ],
 "metadata": {
  "kernelspec": {
   "display_name": "Python 3 (ipykernel)",
   "language": "python",
   "name": "python3"
  },
  "language_info": {
   "codemirror_mode": {
    "name": "ipython",
    "version": 3
   },
   "file_extension": ".py",
   "mimetype": "text/x-python",
   "name": "python",
   "nbconvert_exporter": "python",
   "pygments_lexer": "ipython3",
   "version": "3.10.9"
  }
 },
 "nbformat": 4,
 "nbformat_minor": 5
}
