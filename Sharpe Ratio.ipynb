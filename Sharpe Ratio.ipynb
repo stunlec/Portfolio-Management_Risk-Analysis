{
 "cells": [
  {
   "cell_type": "code",
   "execution_count": 1,
   "id": "864a475e",
   "metadata": {},
   "outputs": [],
   "source": [
    "import pandas as pd\n",
    "import math"
   ]
  },
  {
   "cell_type": "code",
   "execution_count": 2,
   "id": "949bc9a8",
   "metadata": {},
   "outputs": [],
   "source": [
    "def Sharpe_Ratio(l_stock):\n",
    "    total=0\n",
    "    for i in range(0,len(l_stock)):\n",
    "        total=total + float(l_stock[i])\n",
    "\n",
    "    avg = total/len(l_stock)\n",
    "    sum_sqr=0\n",
    "    for j in range(0,len(l_stock)):\n",
    "        diff=float(l_stock[j])-avg\n",
    "        sqr=diff*diff\n",
    "        sum_sqr=sum_sqr+sqr\n",
    "    variance=sum_sqr/len(l_stock)\n",
    "    sd=math.sqrt(variance)\n",
    "\n",
    "    SR=((avg/100)-(0.03))/sd\n",
    "\n",
    "    return round(SR,2)"
   ]
  },
  {
   "cell_type": "code",
   "execution_count": 3,
   "id": "309b4d3c",
   "metadata": {},
   "outputs": [],
   "source": [
    "file = pd.read_csv(r\"C:\\Users\\shash\\Downloads\\sample_prices.csv\")"
   ]
  },
  {
   "cell_type": "code",
   "execution_count": 4,
   "id": "bd4ba64a",
   "metadata": {},
   "outputs": [],
   "source": [
    "blue=file['BLUE'].tolist()\n",
    "orange=file['ORANGE'].tolist()"
   ]
  },
  {
   "cell_type": "code",
   "execution_count": 5,
   "id": "8db587c7",
   "metadata": {},
   "outputs": [],
   "source": [
    "blue_SR=Sharpe_Ratio(blue)\n",
    "orange_SR=Sharpe_Ratio(orange)"
   ]
  },
  {
   "cell_type": "code",
   "execution_count": 6,
   "id": "af8d6ae0",
   "metadata": {},
   "outputs": [
    {
     "name": "stdout",
     "output_type": "stream",
     "text": [
      "Sharpe Ratio of Stock Blue is: 0.16\n",
      "Sharpe Ratio of Stock Orange is: 0.09\n"
     ]
    }
   ],
   "source": [
    "print(\"Sharpe Ratio of Stock Blue is:\",blue_SR)\n",
    "print(\"Sharpe Ratio of Stock Orange is:\",orange_SR)"
   ]
  },
  {
   "cell_type": "code",
   "execution_count": null,
   "id": "531a677a",
   "metadata": {},
   "outputs": [],
   "source": []
  }
 ],
 "metadata": {
  "kernelspec": {
   "display_name": "Python 3 (ipykernel)",
   "language": "python",
   "name": "python3"
  },
  "language_info": {
   "codemirror_mode": {
    "name": "ipython",
    "version": 3
   },
   "file_extension": ".py",
   "mimetype": "text/x-python",
   "name": "python",
   "nbconvert_exporter": "python",
   "pygments_lexer": "ipython3",
   "version": "3.10.9"
  }
 },
 "nbformat": 4,
 "nbformat_minor": 5
}
