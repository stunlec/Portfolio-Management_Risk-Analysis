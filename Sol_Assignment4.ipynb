{
 "cells": [
  {
   "cell_type": "code",
   "execution_count": 1,
   "id": "c94c292a",
   "metadata": {},
   "outputs": [],
   "source": [
    "import risk_kit_Shashwat as rk\n",
    "import numpy as np\n",
    "import pandas as pd"
   ]
  },
  {
   "cell_type": "code",
   "execution_count": 2,
   "id": "9c8c4e39",
   "metadata": {},
   "outputs": [],
   "source": [
    "stock1 = pd.read_csv(r\"ACC_NS.csv\")\n",
    "stock2 = pd.read_csv(r\"ASIANPAINT_NS.csv\")\n",
    "stock3 = pd.read_csv(r\"ASHOKLEY_NS.csv\")\n",
    "stock4 = pd.read_csv(r\"ATUL_NS.csv\")\n",
    "stock5 = pd.read_csv(r\"AUROPHARMA_NS.csv\")\n",
    "stock6 = pd.read_csv(r\"BANKBARODA_NS.csv\")\n",
    "stock7 = pd.read_csv(r\"BRITANNIA_NS.csv\")\n",
    "stock8 = pd.read_csv(r\"DRREDDY_NS.csv\")\n",
    "stock9 = pd.read_csv(r\"ITC_NS.csv\")\n",
    "stock10 = pd.read_csv(r\"TCS_NS.csv\")"
   ]
  },
  {
   "cell_type": "code",
   "execution_count": 3,
   "id": "b9b993ca",
   "metadata": {},
   "outputs": [],
   "source": [
    "portfolio = [stock1, stock2, stock3, stock4, stock5, stock6, stock7, stock8, stock9, stock10]\n",
    "stock_name=['ACC','Asian Paint','Ashok Leyland','Atul','Auropharma','Bank of Baroda','Britannia','Dr Reddy','ITC','TCS']"
   ]
  },
  {
   "cell_type": "code",
   "execution_count": 4,
   "id": "70b468ad",
   "metadata": {},
   "outputs": [
    {
     "data": {
      "text/html": [
       "<div>\n",
       "<style scoped>\n",
       "    .dataframe tbody tr th:only-of-type {\n",
       "        vertical-align: middle;\n",
       "    }\n",
       "\n",
       "    .dataframe tbody tr th {\n",
       "        vertical-align: top;\n",
       "    }\n",
       "\n",
       "    .dataframe thead th {\n",
       "        text-align: right;\n",
       "    }\n",
       "</style>\n",
       "<table border=\"1\" class=\"dataframe\">\n",
       "  <thead>\n",
       "    <tr style=\"text-align: right;\">\n",
       "      <th></th>\n",
       "      <th>Date</th>\n",
       "      <th>Open</th>\n",
       "      <th>High</th>\n",
       "      <th>Low</th>\n",
       "      <th>Close</th>\n",
       "      <th>Adj Close</th>\n",
       "      <th>Volume</th>\n",
       "    </tr>\n",
       "  </thead>\n",
       "  <tbody>\n",
       "    <tr>\n",
       "      <th>0</th>\n",
       "      <td>2008-07-01</td>\n",
       "      <td>525.500000</td>\n",
       "      <td>604.200012</td>\n",
       "      <td>461.299988</td>\n",
       "      <td>583.400024</td>\n",
       "      <td>435.962799</td>\n",
       "      <td>13246615</td>\n",
       "    </tr>\n",
       "    <tr>\n",
       "      <th>1</th>\n",
       "      <td>2008-08-01</td>\n",
       "      <td>575.000000</td>\n",
       "      <td>651.000000</td>\n",
       "      <td>541.099976</td>\n",
       "      <td>562.349976</td>\n",
       "      <td>427.456085</td>\n",
       "      <td>7333460</td>\n",
       "    </tr>\n",
       "    <tr>\n",
       "      <th>2</th>\n",
       "      <td>2008-09-01</td>\n",
       "      <td>555.000000</td>\n",
       "      <td>634.900024</td>\n",
       "      <td>551.299988</td>\n",
       "      <td>614.950012</td>\n",
       "      <td>467.438599</td>\n",
       "      <td>7735564</td>\n",
       "    </tr>\n",
       "    <tr>\n",
       "      <th>3</th>\n",
       "      <td>2008-10-01</td>\n",
       "      <td>619.000000</td>\n",
       "      <td>649.000000</td>\n",
       "      <td>365.000000</td>\n",
       "      <td>493.750000</td>\n",
       "      <td>375.311554</td>\n",
       "      <td>5891752</td>\n",
       "    </tr>\n",
       "    <tr>\n",
       "      <th>4</th>\n",
       "      <td>2008-11-01</td>\n",
       "      <td>519.000000</td>\n",
       "      <td>532.900024</td>\n",
       "      <td>381.100006</td>\n",
       "      <td>405.600006</td>\n",
       "      <td>308.306519</td>\n",
       "      <td>7440072</td>\n",
       "    </tr>\n",
       "    <tr>\n",
       "      <th>...</th>\n",
       "      <td>...</td>\n",
       "      <td>...</td>\n",
       "      <td>...</td>\n",
       "      <td>...</td>\n",
       "      <td>...</td>\n",
       "      <td>...</td>\n",
       "      <td>...</td>\n",
       "    </tr>\n",
       "    <tr>\n",
       "      <th>176</th>\n",
       "      <td>2023-03-01</td>\n",
       "      <td>1739.699951</td>\n",
       "      <td>1932.300049</td>\n",
       "      <td>1592.349976</td>\n",
       "      <td>1667.199951</td>\n",
       "      <td>1667.199951</td>\n",
       "      <td>15402177</td>\n",
       "    </tr>\n",
       "    <tr>\n",
       "      <th>177</th>\n",
       "      <td>2023-04-01</td>\n",
       "      <td>1675.000000</td>\n",
       "      <td>1789.000000</td>\n",
       "      <td>1651.599976</td>\n",
       "      <td>1762.849976</td>\n",
       "      <td>1762.849976</td>\n",
       "      <td>7684601</td>\n",
       "    </tr>\n",
       "    <tr>\n",
       "      <th>178</th>\n",
       "      <td>2023-05-01</td>\n",
       "      <td>1762.849976</td>\n",
       "      <td>1867.000000</td>\n",
       "      <td>1704.449951</td>\n",
       "      <td>1777.199951</td>\n",
       "      <td>1777.199951</td>\n",
       "      <td>15329218</td>\n",
       "    </tr>\n",
       "    <tr>\n",
       "      <th>179</th>\n",
       "      <td>2023-06-01</td>\n",
       "      <td>1782.000000</td>\n",
       "      <td>1823.699951</td>\n",
       "      <td>1780.699951</td>\n",
       "      <td>1815.599976</td>\n",
       "      <td>1815.599976</td>\n",
       "      <td>1361976</td>\n",
       "    </tr>\n",
       "    <tr>\n",
       "      <th>180</th>\n",
       "      <td>2023-06-05</td>\n",
       "      <td>1821.000000</td>\n",
       "      <td>1826.500000</td>\n",
       "      <td>1806.500000</td>\n",
       "      <td>1810.449951</td>\n",
       "      <td>1810.449951</td>\n",
       "      <td>538934</td>\n",
       "    </tr>\n",
       "  </tbody>\n",
       "</table>\n",
       "<p>181 rows × 7 columns</p>\n",
       "</div>"
      ],
      "text/plain": [
       "           Date         Open         High          Low        Close  \\\n",
       "0    2008-07-01   525.500000   604.200012   461.299988   583.400024   \n",
       "1    2008-08-01   575.000000   651.000000   541.099976   562.349976   \n",
       "2    2008-09-01   555.000000   634.900024   551.299988   614.950012   \n",
       "3    2008-10-01   619.000000   649.000000   365.000000   493.750000   \n",
       "4    2008-11-01   519.000000   532.900024   381.100006   405.600006   \n",
       "..          ...          ...          ...          ...          ...   \n",
       "176  2023-03-01  1739.699951  1932.300049  1592.349976  1667.199951   \n",
       "177  2023-04-01  1675.000000  1789.000000  1651.599976  1762.849976   \n",
       "178  2023-05-01  1762.849976  1867.000000  1704.449951  1777.199951   \n",
       "179  2023-06-01  1782.000000  1823.699951  1780.699951  1815.599976   \n",
       "180  2023-06-05  1821.000000  1826.500000  1806.500000  1810.449951   \n",
       "\n",
       "       Adj Close    Volume  \n",
       "0     435.962799  13246615  \n",
       "1     427.456085   7333460  \n",
       "2     467.438599   7735564  \n",
       "3     375.311554   5891752  \n",
       "4     308.306519   7440072  \n",
       "..           ...       ...  \n",
       "176  1667.199951  15402177  \n",
       "177  1762.849976   7684601  \n",
       "178  1777.199951  15329218  \n",
       "179  1815.599976   1361976  \n",
       "180  1810.449951    538934  \n",
       "\n",
       "[181 rows x 7 columns]"
      ]
     },
     "execution_count": 4,
     "metadata": {},
     "output_type": "execute_result"
    }
   ],
   "source": [
    "stock1"
   ]
  },
  {
   "cell_type": "code",
   "execution_count": 5,
   "id": "684beefb",
   "metadata": {},
   "outputs": [
    {
     "data": {
      "text/plain": [
       "['Open', 'High', 'Low', 'Adj Close', 'Volume']"
      ]
     },
     "execution_count": 5,
     "metadata": {},
     "output_type": "execute_result"
    }
   ],
   "source": [
    "drop_col = stock1.columns.values.tolist()\n",
    "drop_col.remove('Date')\n",
    "drop_col.remove('Close')\n",
    "drop_col"
   ]
  },
  {
   "cell_type": "code",
   "execution_count": 6,
   "id": "3d4bc810",
   "metadata": {},
   "outputs": [],
   "source": [
    "for st in portfolio:\n",
    "    st.drop(drop_col,axis=1,inplace=True)"
   ]
  },
  {
   "cell_type": "code",
   "execution_count": 7,
   "id": "a881a55f",
   "metadata": {},
   "outputs": [],
   "source": [
    "stock1.drop(180,inplace=True)\n",
    "stock2.drop(180,inplace=True)\n",
    "stock3.drop(180,inplace=True)\n",
    "stock6.drop(180,inplace=True)\n",
    "stock7.drop(180,inplace=True)\n",
    "stock8.drop(180,inplace=True)"
   ]
  },
  {
   "cell_type": "code",
   "execution_count": 8,
   "id": "bbfc6504",
   "metadata": {},
   "outputs": [],
   "source": [
    "ret = rk.ret(stock1['Close']).reshape(-1,1)\n",
    "stock1['Returns']=ret\n",
    "ret = rk.ret(stock2['Close']).reshape(-1,1)\n",
    "stock2['Returns']=ret\n",
    "ret = rk.ret(stock3['Close']).reshape(-1,1)\n",
    "stock3['Returns']=ret\n",
    "ret = rk.ret(stock4['Close']).reshape(-1,1)\n",
    "stock4['Returns']=ret\n",
    "ret = rk.ret(stock5['Close']).reshape(-1,1)\n",
    "stock5['Returns']=ret\n",
    "ret = rk.ret(stock6['Close']).reshape(-1,1)\n",
    "stock6['Returns']=ret\n",
    "ret = rk.ret(stock7['Close']).reshape(-1,1)\n",
    "stock7['Returns']=ret\n",
    "ret = rk.ret(stock8['Close']).reshape(-1,1)\n",
    "stock8['Returns']=ret\n",
    "ret = rk.ret(stock9['Close']).reshape(-1,1)\n",
    "stock9['Returns']=ret\n",
    "ret = rk.ret(stock10['Close']).reshape(-1,1)\n",
    "stock10['Returns']=ret"
   ]
  },
  {
   "cell_type": "code",
   "execution_count": 9,
   "id": "c4dd707c",
   "metadata": {},
   "outputs": [],
   "source": [
    "comp_portfolio = pd.DataFrame()\n",
    "for st, col_name in zip(portfolio, stock_name):\n",
    "    col_data = st['Returns']\n",
    "    comp_portfolio[col_name] = col_data\n",
    "    "
   ]
  },
  {
   "cell_type": "code",
   "execution_count": 10,
   "id": "b69c43e9",
   "metadata": {},
   "outputs": [],
   "source": [
    "cov=comp_portfolio.cov()"
   ]
  },
  {
   "cell_type": "code",
   "execution_count": 11,
   "id": "4b92ded8",
   "metadata": {},
   "outputs": [],
   "source": [
    "annual_ret=[]\n",
    "for st in portfolio:\n",
    "    ar=(rk.ann_ret(st['Returns'],1,15))/100\n",
    "    annual_ret.append(ar)"
   ]
  },
  {
   "cell_type": "code",
   "execution_count": 12,
   "id": "1610b675",
   "metadata": {},
   "outputs": [],
   "source": [
    "ret_portfolio = pd.DataFrame(annual_ret,index=stock_name,columns=['Returns'])"
   ]
  },
  {
   "cell_type": "code",
   "execution_count": 13,
   "id": "5831b47a",
   "metadata": {},
   "outputs": [
    {
     "data": {
      "text/html": [
       "<div>\n",
       "<style scoped>\n",
       "    .dataframe tbody tr th:only-of-type {\n",
       "        vertical-align: middle;\n",
       "    }\n",
       "\n",
       "    .dataframe tbody tr th {\n",
       "        vertical-align: top;\n",
       "    }\n",
       "\n",
       "    .dataframe thead th {\n",
       "        text-align: right;\n",
       "    }\n",
       "</style>\n",
       "<table border=\"1\" class=\"dataframe\">\n",
       "  <thead>\n",
       "    <tr style=\"text-align: right;\">\n",
       "      <th></th>\n",
       "      <th>Returns</th>\n",
       "    </tr>\n",
       "  </thead>\n",
       "  <tbody>\n",
       "    <tr>\n",
       "      <th>ACC</th>\n",
       "      <td>0.078624</td>\n",
       "    </tr>\n",
       "    <tr>\n",
       "      <th>Asian Paint</th>\n",
       "      <td>0.245353</td>\n",
       "    </tr>\n",
       "    <tr>\n",
       "      <th>Ashok Leyland</th>\n",
       "      <td>0.169680</td>\n",
       "    </tr>\n",
       "    <tr>\n",
       "      <th>Atul</th>\n",
       "      <td>0.376178</td>\n",
       "    </tr>\n",
       "    <tr>\n",
       "      <th>Auropharma</th>\n",
       "      <td>0.235228</td>\n",
       "    </tr>\n",
       "    <tr>\n",
       "      <th>Bank of Baroda</th>\n",
       "      <td>0.090014</td>\n",
       "    </tr>\n",
       "    <tr>\n",
       "      <th>Britannia</th>\n",
       "      <td>0.264264</td>\n",
       "    </tr>\n",
       "    <tr>\n",
       "      <th>Dr Reddy</th>\n",
       "      <td>0.149656</td>\n",
       "    </tr>\n",
       "    <tr>\n",
       "      <th>ITC</th>\n",
       "      <td>0.139819</td>\n",
       "    </tr>\n",
       "    <tr>\n",
       "      <th>TCS</th>\n",
       "      <td>0.202315</td>\n",
       "    </tr>\n",
       "  </tbody>\n",
       "</table>\n",
       "</div>"
      ],
      "text/plain": [
       "                 Returns\n",
       "ACC             0.078624\n",
       "Asian Paint     0.245353\n",
       "Ashok Leyland   0.169680\n",
       "Atul            0.376178\n",
       "Auropharma      0.235228\n",
       "Bank of Baroda  0.090014\n",
       "Britannia       0.264264\n",
       "Dr Reddy        0.149656\n",
       "ITC             0.139819\n",
       "TCS             0.202315"
      ]
     },
     "execution_count": 13,
     "metadata": {},
     "output_type": "execute_result"
    }
   ],
   "source": [
    "ret_portfolio"
   ]
  },
  {
   "cell_type": "code",
   "execution_count": 28,
   "id": "786fe08d",
   "metadata": {},
   "outputs": [],
   "source": [
    "#Calculating Optimal weights based on Maximum Sharpe Ratio\n",
    "weights = rk.msr(200,ret_portfolio,cov)"
   ]
  },
  {
   "cell_type": "code",
   "execution_count": 29,
   "id": "6118e69b",
   "metadata": {},
   "outputs": [
    {
     "data": {
      "text/plain": [
       "array([6.31777934e-18, 2.04577557e-19, 5.30837965e-17, 2.28327971e-17,\n",
       "       1.00000000e+00, 4.02087010e-17, 1.32944564e-09, 2.41795501e-08,\n",
       "       1.00974261e-08, 1.52071731e-08])"
      ]
     },
     "execution_count": 29,
     "metadata": {},
     "output_type": "execute_result"
    }
   ],
   "source": [
    "weights"
   ]
  },
  {
   "cell_type": "code",
   "execution_count": 15,
   "id": "ecc39fb4",
   "metadata": {},
   "outputs": [
    {
     "data": {
      "text/html": [
       "<div>\n",
       "<style scoped>\n",
       "    .dataframe tbody tr th:only-of-type {\n",
       "        vertical-align: middle;\n",
       "    }\n",
       "\n",
       "    .dataframe tbody tr th {\n",
       "        vertical-align: top;\n",
       "    }\n",
       "\n",
       "    .dataframe thead th {\n",
       "        text-align: right;\n",
       "    }\n",
       "</style>\n",
       "<table border=\"1\" class=\"dataframe\">\n",
       "  <thead>\n",
       "    <tr style=\"text-align: right;\">\n",
       "      <th></th>\n",
       "      <th>ACC</th>\n",
       "      <th>Asian Paint</th>\n",
       "      <th>Ashok Leyland</th>\n",
       "      <th>Atul</th>\n",
       "      <th>Auropharma</th>\n",
       "      <th>Bank of Baroda</th>\n",
       "      <th>Britannia</th>\n",
       "      <th>Dr Reddy</th>\n",
       "      <th>ITC</th>\n",
       "      <th>TCS</th>\n",
       "    </tr>\n",
       "  </thead>\n",
       "  <tbody>\n",
       "    <tr>\n",
       "      <th>ACC</th>\n",
       "      <td>0.006849</td>\n",
       "      <td>0.002266</td>\n",
       "      <td>0.004982</td>\n",
       "      <td>0.003251</td>\n",
       "      <td>0.004463</td>\n",
       "      <td>0.003885</td>\n",
       "      <td>0.001778</td>\n",
       "      <td>0.000816</td>\n",
       "      <td>0.001775</td>\n",
       "      <td>0.001019</td>\n",
       "    </tr>\n",
       "    <tr>\n",
       "      <th>Asian Paint</th>\n",
       "      <td>0.002266</td>\n",
       "      <td>0.005896</td>\n",
       "      <td>0.003307</td>\n",
       "      <td>0.002096</td>\n",
       "      <td>0.003134</td>\n",
       "      <td>0.003169</td>\n",
       "      <td>0.002078</td>\n",
       "      <td>0.000743</td>\n",
       "      <td>0.001588</td>\n",
       "      <td>0.001547</td>\n",
       "    </tr>\n",
       "    <tr>\n",
       "      <th>Ashok Leyland</th>\n",
       "      <td>0.004982</td>\n",
       "      <td>0.003307</td>\n",
       "      <td>0.016706</td>\n",
       "      <td>0.006255</td>\n",
       "      <td>0.008079</td>\n",
       "      <td>0.007067</td>\n",
       "      <td>0.002230</td>\n",
       "      <td>0.001468</td>\n",
       "      <td>0.001864</td>\n",
       "      <td>0.001143</td>\n",
       "    </tr>\n",
       "    <tr>\n",
       "      <th>Atul</th>\n",
       "      <td>0.003251</td>\n",
       "      <td>0.002096</td>\n",
       "      <td>0.006255</td>\n",
       "      <td>0.011610</td>\n",
       "      <td>0.007966</td>\n",
       "      <td>0.004480</td>\n",
       "      <td>0.002198</td>\n",
       "      <td>0.002209</td>\n",
       "      <td>0.001111</td>\n",
       "      <td>0.001180</td>\n",
       "    </tr>\n",
       "    <tr>\n",
       "      <th>Auropharma</th>\n",
       "      <td>0.004463</td>\n",
       "      <td>0.003134</td>\n",
       "      <td>0.008079</td>\n",
       "      <td>0.007966</td>\n",
       "      <td>0.020946</td>\n",
       "      <td>0.004039</td>\n",
       "      <td>0.002485</td>\n",
       "      <td>0.005742</td>\n",
       "      <td>0.001757</td>\n",
       "      <td>0.002484</td>\n",
       "    </tr>\n",
       "    <tr>\n",
       "      <th>Bank of Baroda</th>\n",
       "      <td>0.003885</td>\n",
       "      <td>0.003169</td>\n",
       "      <td>0.007067</td>\n",
       "      <td>0.004480</td>\n",
       "      <td>0.004039</td>\n",
       "      <td>0.014871</td>\n",
       "      <td>0.001389</td>\n",
       "      <td>0.000360</td>\n",
       "      <td>0.002154</td>\n",
       "      <td>0.000395</td>\n",
       "    </tr>\n",
       "    <tr>\n",
       "      <th>Britannia</th>\n",
       "      <td>0.001778</td>\n",
       "      <td>0.002078</td>\n",
       "      <td>0.002230</td>\n",
       "      <td>0.002198</td>\n",
       "      <td>0.002485</td>\n",
       "      <td>0.001389</td>\n",
       "      <td>0.005400</td>\n",
       "      <td>0.001333</td>\n",
       "      <td>0.001260</td>\n",
       "      <td>0.001336</td>\n",
       "    </tr>\n",
       "    <tr>\n",
       "      <th>Dr Reddy</th>\n",
       "      <td>0.000816</td>\n",
       "      <td>0.000743</td>\n",
       "      <td>0.001468</td>\n",
       "      <td>0.002209</td>\n",
       "      <td>0.005742</td>\n",
       "      <td>0.000360</td>\n",
       "      <td>0.001333</td>\n",
       "      <td>0.006331</td>\n",
       "      <td>0.000683</td>\n",
       "      <td>0.001675</td>\n",
       "    </tr>\n",
       "    <tr>\n",
       "      <th>ITC</th>\n",
       "      <td>0.001775</td>\n",
       "      <td>0.001588</td>\n",
       "      <td>0.001864</td>\n",
       "      <td>0.001111</td>\n",
       "      <td>0.001757</td>\n",
       "      <td>0.002154</td>\n",
       "      <td>0.001260</td>\n",
       "      <td>0.000683</td>\n",
       "      <td>0.004066</td>\n",
       "      <td>0.001480</td>\n",
       "    </tr>\n",
       "    <tr>\n",
       "      <th>TCS</th>\n",
       "      <td>0.001019</td>\n",
       "      <td>0.001547</td>\n",
       "      <td>0.001143</td>\n",
       "      <td>0.001180</td>\n",
       "      <td>0.002484</td>\n",
       "      <td>0.000395</td>\n",
       "      <td>0.001336</td>\n",
       "      <td>0.001675</td>\n",
       "      <td>0.001480</td>\n",
       "      <td>0.005452</td>\n",
       "    </tr>\n",
       "  </tbody>\n",
       "</table>\n",
       "</div>"
      ],
      "text/plain": [
       "                     ACC  Asian Paint  Ashok Leyland      Atul  Auropharma  \\\n",
       "ACC             0.006849     0.002266       0.004982  0.003251    0.004463   \n",
       "Asian Paint     0.002266     0.005896       0.003307  0.002096    0.003134   \n",
       "Ashok Leyland   0.004982     0.003307       0.016706  0.006255    0.008079   \n",
       "Atul            0.003251     0.002096       0.006255  0.011610    0.007966   \n",
       "Auropharma      0.004463     0.003134       0.008079  0.007966    0.020946   \n",
       "Bank of Baroda  0.003885     0.003169       0.007067  0.004480    0.004039   \n",
       "Britannia       0.001778     0.002078       0.002230  0.002198    0.002485   \n",
       "Dr Reddy        0.000816     0.000743       0.001468  0.002209    0.005742   \n",
       "ITC             0.001775     0.001588       0.001864  0.001111    0.001757   \n",
       "TCS             0.001019     0.001547       0.001143  0.001180    0.002484   \n",
       "\n",
       "                Bank of Baroda  Britannia  Dr Reddy       ITC       TCS  \n",
       "ACC                   0.003885   0.001778  0.000816  0.001775  0.001019  \n",
       "Asian Paint           0.003169   0.002078  0.000743  0.001588  0.001547  \n",
       "Ashok Leyland         0.007067   0.002230  0.001468  0.001864  0.001143  \n",
       "Atul                  0.004480   0.002198  0.002209  0.001111  0.001180  \n",
       "Auropharma            0.004039   0.002485  0.005742  0.001757  0.002484  \n",
       "Bank of Baroda        0.014871   0.001389  0.000360  0.002154  0.000395  \n",
       "Britannia             0.001389   0.005400  0.001333  0.001260  0.001336  \n",
       "Dr Reddy              0.000360   0.001333  0.006331  0.000683  0.001675  \n",
       "ITC                   0.002154   0.001260  0.000683  0.004066  0.001480  \n",
       "TCS                   0.000395   0.001336  0.001675  0.001480  0.005452  "
      ]
     },
     "execution_count": 15,
     "metadata": {},
     "output_type": "execute_result"
    }
   ],
   "source": [
    "cov"
   ]
  },
  {
   "cell_type": "code",
   "execution_count": 20,
   "id": "eba8513e",
   "metadata": {},
   "outputs": [
    {
     "data": {
      "text/html": [
       "<div>\n",
       "<style scoped>\n",
       "    .dataframe tbody tr th:only-of-type {\n",
       "        vertical-align: middle;\n",
       "    }\n",
       "\n",
       "    .dataframe tbody tr th {\n",
       "        vertical-align: top;\n",
       "    }\n",
       "\n",
       "    .dataframe thead th {\n",
       "        text-align: right;\n",
       "    }\n",
       "</style>\n",
       "<table border=\"1\" class=\"dataframe\">\n",
       "  <thead>\n",
       "    <tr style=\"text-align: right;\">\n",
       "      <th></th>\n",
       "      <th>Returns</th>\n",
       "      <th>Weights</th>\n",
       "    </tr>\n",
       "  </thead>\n",
       "  <tbody>\n",
       "    <tr>\n",
       "      <th>ACC</th>\n",
       "      <td>0.078624</td>\n",
       "      <td>1.270071e-16</td>\n",
       "    </tr>\n",
       "    <tr>\n",
       "      <th>Asian Paint</th>\n",
       "      <td>0.245353</td>\n",
       "      <td>2.013319e-01</td>\n",
       "    </tr>\n",
       "    <tr>\n",
       "      <th>Ashok Leyland</th>\n",
       "      <td>0.169680</td>\n",
       "      <td>7.669365e-16</td>\n",
       "    </tr>\n",
       "    <tr>\n",
       "      <th>Atul</th>\n",
       "      <td>0.376178</td>\n",
       "      <td>2.591681e-01</td>\n",
       "    </tr>\n",
       "    <tr>\n",
       "      <th>Auropharma</th>\n",
       "      <td>0.235228</td>\n",
       "      <td>5.046147e-16</td>\n",
       "    </tr>\n",
       "    <tr>\n",
       "      <th>Bank of Baroda</th>\n",
       "      <td>0.090014</td>\n",
       "      <td>4.417690e-16</td>\n",
       "    </tr>\n",
       "    <tr>\n",
       "      <th>Britannia</th>\n",
       "      <td>0.264264</td>\n",
       "      <td>3.099189e-01</td>\n",
       "    </tr>\n",
       "    <tr>\n",
       "      <th>Dr Reddy</th>\n",
       "      <td>0.149656</td>\n",
       "      <td>3.737595e-03</td>\n",
       "    </tr>\n",
       "    <tr>\n",
       "      <th>ITC</th>\n",
       "      <td>0.139819</td>\n",
       "      <td>2.156162e-02</td>\n",
       "    </tr>\n",
       "    <tr>\n",
       "      <th>TCS</th>\n",
       "      <td>0.202315</td>\n",
       "      <td>2.042818e-01</td>\n",
       "    </tr>\n",
       "  </tbody>\n",
       "</table>\n",
       "</div>"
      ],
      "text/plain": [
       "                 Returns       Weights\n",
       "ACC             0.078624  1.270071e-16\n",
       "Asian Paint     0.245353  2.013319e-01\n",
       "Ashok Leyland   0.169680  7.669365e-16\n",
       "Atul            0.376178  2.591681e-01\n",
       "Auropharma      0.235228  5.046147e-16\n",
       "Bank of Baroda  0.090014  4.417690e-16\n",
       "Britannia       0.264264  3.099189e-01\n",
       "Dr Reddy        0.149656  3.737595e-03\n",
       "ITC             0.139819  2.156162e-02\n",
       "TCS             0.202315  2.042818e-01"
      ]
     },
     "execution_count": 20,
     "metadata": {},
     "output_type": "execute_result"
    }
   ],
   "source": [
    "ret_portfolio['Weights']=weights\n",
    "ret_portfolio"
   ]
  },
  {
   "cell_type": "code",
   "execution_count": 23,
   "id": "0c2826e8",
   "metadata": {},
   "outputs": [
    {
     "data": {
      "text/plain": [
       "<Axes: xlabel='Volatility'>"
      ]
     },
     "execution_count": 23,
     "metadata": {},
     "output_type": "execute_result"
    },
    {
     "data": {
      "image/png": "[encoded data removed]",
      "text/plain": [
       "<Figure size 640x480 with 1 Axes>"
      ]
     },
     "metadata": {},
     "output_type": "display_data"
    }
   ],
   "source": [
    "rk.plot_ef(1000, ret_portfolio['Returns'], cov)"
   ]
  },
  {
   "cell_type": "code",
   "execution_count": 32,
   "id": "426ff995",
   "metadata": {},
   "outputs": [
    {
     "data": {
      "text/plain": [
       "0.2736945282577752"
      ]
     },
     "execution_count": 32,
     "metadata": {},
     "output_type": "execute_result"
    }
   ],
   "source": [
    "#Calculating Portfolio retun\n",
    "port_ret = rk.portfolio_return(ret_portfolio['Weights'],ret_portfolio['Returns'])\n",
    "port_ret"
   ]
  },
  {
   "cell_type": "code",
   "execution_count": 33,
   "id": "5349006d",
   "metadata": {},
   "outputs": [
    {
     "data": {
      "text/plain": [
       "0.05555907273269666"
      ]
     },
     "execution_count": 33,
     "metadata": {},
     "output_type": "execute_result"
    }
   ],
   "source": [
    "#Calculating Portfolio vol\n",
    "port_vol = rk.portfolio_vol(ret_portfolio['Weights'],cov)\n",
    "port_vol"
   ]
  },
  {
   "cell_type": "code",
   "execution_count": 35,
   "id": "e39fafee",
   "metadata": {},
   "outputs": [
    {
     "data": {
      "text/plain": [
       "4.386223820369131"
      ]
     },
     "execution_count": 35,
     "metadata": {},
     "output_type": "execute_result"
    }
   ],
   "source": [
    "#Calculating Sharpe Ratio of portfolio\n",
    "SR = (port_ret-(0.03))/port_vol\n",
    "SR"
   ]
  },
  {
   "cell_type": "code",
   "execution_count": null,
   "id": "b1810804",
   "metadata": {},
   "outputs": [],
   "source": []
  },
  {
   "cell_type": "code",
   "execution_count": null,
   "id": "78931808-7ac3-430f-b03a-1397fdf71419",
   "metadata": {},
   "outputs": [],
   "source": []
  }
 ],
 "metadata": {
  "kernelspec": {
   "display_name": "Python 3 (ipykernel)",
   "language": "python",
   "name": "python3"
  },
  "language_info": {
   "codemirror_mode": {
    "name": "ipython",
    "version": 3
   },
   "file_extension": ".py",
   "mimetype": "text/x-python",
   "name": "python",
   "nbconvert_exporter": "python",
   "pygments_lexer": "ipython3",
   "version": "3.10.13"
  }
 },
 "nbformat": 4,
 "nbformat_minor": 5
}
